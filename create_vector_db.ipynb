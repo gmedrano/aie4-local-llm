{
 "cells": [
  {
   "cell_type": "code",
   "execution_count": 1,
   "metadata": {},
   "outputs": [],
   "source": [
    "from langchain_community.document_loaders import PyMuPDFLoader\n",
    "from langchain_text_splitters import RecursiveCharacterTextSplitter\n",
    "from langchain_qdrant import QdrantVectorStore\n",
    "from langchain_ollama import OllamaEmbeddings"
   ]
  },
  {
   "cell_type": "code",
   "execution_count": 2,
   "metadata": {},
   "outputs": [],
   "source": [
    "Loader = PyMuPDFLoader\n",
    "loader = Loader(\"data/the_alchemist.pdf\")\n",
    "documents = loader.load()"
   ]
  },
  {
   "cell_type": "code",
   "execution_count": 3,
   "metadata": {},
   "outputs": [],
   "source": [
    "text_splitter = RecursiveCharacterTextSplitter(chunk_size=1000, chunk_overlap=100)\n",
    "docs = text_splitter.split_documents(documents)\n",
    "for i, doc in enumerate(docs):\n",
    "    doc.metadata[\"source\"] = f\"source_{i}\""
   ]
  },
  {
   "cell_type": "code",
   "execution_count": 7,
   "metadata": {},
   "outputs": [],
   "source": [
    "url = \"http://localhost:6333\"\n",
    "collection_name = \"first_collection\""
   ]
  },
  {
   "cell_type": "code",
   "execution_count": 8,
   "metadata": {},
   "outputs": [],
   "source": [
    "embeddings = OllamaEmbeddings(\n",
    "    model=\"mxbai-embed-large\",\n",
    ")"
   ]
  },
  {
   "cell_type": "code",
   "execution_count": 9,
   "metadata": {},
   "outputs": [],
   "source": [
    "qdrant = QdrantVectorStore.from_documents(\n",
    "    docs,\n",
    "    embeddings,\n",
    "    url=url,\n",
    "    prefer_grpc=True,\n",
    "    collection_name=collection_name,\n",
    ")"
   ]
  },
  {
   "cell_type": "code",
   "execution_count": 10,
   "metadata": {},
   "outputs": [
    {
     "data": {
      "text/plain": [
       "[Document(metadata={'subject': '', 'creator': 'Microsoft® Word 2016', 'total_pages': 142, 'keywords': 'General, Fiction, Literary, Alchemists, fables, Visionary & Metaphysical, Young men, Self-realization, Alchemy, Shepherds, Shepherds - Spain - Andalusia, Portuguese fiction, Andalusia (Spain)', 'modDate': \"D:20241009212627Z00'00'\", 'trapped': '', 'format': 'PDF 1.3', 'source': 'source_3', 'file_path': 'data/the_alchemist.pdf', 'creationDate': \"D:20241009212627Z00'00'\", 'title': 'The Alchemist', 'page': 4, 'producer': 'macOS Version 14.6.1 (Build 23G93) Quartz PDFContext', 'author': 'Paulo Coelho & Alan R. Clarke', '_id': '67a99374-34a2-4d19-aa24-21398fa619d0', '_collection_name': 'first_collection'}, page_content='street in Miami, I heard a girl telling her mother: “You must read \\nThe Alchemist!” \\nThe book has been translated into fifty-six languages, has sold \\nmore than twenty million copies, and people are beginning to ask: \\nWhat’s the secret behind such a huge success? \\nThe only honest response is: I don’t know. All I know is that, like \\nSantiago the shepherd boy, we all need to be aware of our personal \\ncalling. What is a personal calling? It is God’s blessing, it is the path \\nthat God chose for you here on Earth. Whenever we do something \\nthat fills us with enthusiasm, we are following our legend. However, \\nwe don’t all have the courage to confront our own dream.'),\n",
       " Document(metadata={'subject': '', 'creator': 'Microsoft® Word 2016', 'total_pages': 142, 'keywords': 'General, Fiction, Literary, Alchemists, fables, Visionary & Metaphysical, Young men, Self-realization, Alchemy, Shepherds, Shepherds - Spain - Andalusia, Portuguese fiction, Andalusia (Spain)', 'trapped': '', 'modDate': \"D:20241009212627Z00'00'\", 'format': 'PDF 1.3', 'file_path': 'data/the_alchemist.pdf', 'creationDate': \"D:20241009212627Z00'00'\", 'source': 'source_3', 'title': 'The Alchemist', 'page': 4, 'producer': 'macOS Version 14.6.1 (Build 23G93) Quartz PDFContext', 'author': 'Paulo Coelho & Alan R. Clarke', '_id': '883b50ea-70ae-4ee7-a906-7b4a33a04132', '_collection_name': 'first_collection'}, page_content='street in Miami, I heard a girl telling her mother: “You must read \\nThe Alchemist!” \\nThe book has been translated into fifty-six languages, has sold \\nmore than twenty million copies, and people are beginning to ask: \\nWhat’s the secret behind such a huge success? \\nThe only honest response is: I don’t know. All I know is that, like \\nSantiago the shepherd boy, we all need to be aware of our personal \\ncalling. What is a personal calling? It is God’s blessing, it is the path \\nthat God chose for you here on Earth. Whenever we do something \\nthat fills us with enthusiasm, we are following our legend. However, \\nwe don’t all have the courage to confront our own dream.'),\n",
       " Document(metadata={'subject': '', 'creator': 'Microsoft® Word 2016', 'total_pages': 142, 'keywords': 'General, Fiction, Literary, Alchemists, fables, Visionary & Metaphysical, Young men, Self-realization, Alchemy, Shepherds, Shepherds - Spain - Andalusia, Portuguese fiction, Andalusia (Spain)', 'trapped': '', 'modDate': \"D:20241009212627Z00'00'\", 'format': 'PDF 1.3', 'file_path': 'data/the_alchemist.pdf', 'source': 'source_3', 'creationDate': \"D:20241009212627Z00'00'\", 'title': 'The Alchemist', 'page': 4, 'producer': 'macOS Version 14.6.1 (Build 23G93) Quartz PDFContext', 'author': 'Paulo Coelho & Alan R. Clarke', '_id': '6d28cd22-b671-4aff-95f9-78cdeee49465', '_collection_name': 'first_collection'}, page_content='street in Miami, I heard a girl telling her mother: “You must read \\nThe Alchemist!” \\nThe book has been translated into fifty-six languages, has sold \\nmore than twenty million copies, and people are beginning to ask: \\nWhat’s the secret behind such a huge success? \\nThe only honest response is: I don’t know. All I know is that, like \\nSantiago the shepherd boy, we all need to be aware of our personal \\ncalling. What is a personal calling? It is God’s blessing, it is the path \\nthat God chose for you here on Earth. Whenever we do something \\nthat fills us with enthusiasm, we are following our legend. However, \\nwe don’t all have the courage to confront our own dream.'),\n",
       " Document(metadata={'subject': '', 'creator': 'Microsoft® Word 2016', 'total_pages': 142, 'keywords': 'General, Fiction, Literary, Alchemists, fables, Visionary & Metaphysical, Young men, Self-realization, Alchemy, Shepherds, Shepherds - Spain - Andalusia, Portuguese fiction, Andalusia (Spain)', 'modDate': \"D:20241009212627Z00'00'\", 'trapped': '', 'format': 'PDF 1.3', 'source': 'source_13', 'file_path': 'data/the_alchemist.pdf', 'creationDate': \"D:20241009212627Z00'00'\", 'title': 'The Alchemist', 'page': 11, 'producer': 'macOS Version 14.6.1 (Build 23G93) Quartz PDFContext', 'author': 'Paulo Coelho & Alan R. Clarke', '_id': '4b0ec9de-585e-4a7a-bfb0-2ad7ac97a1c3', '_collection_name': 'first_collection'}, page_content='THE BOY’S NAME WAS SANTIAGO. DUSK WAS FALLING AS the boy arrived \\nwith his herd at an abandoned church. The roof had fallen in long \\nago, and an enormous sycamore had grown on the spot where the \\nsacristy had once stood. \\nHe decided to spend the night there. He saw to it that all the \\nsheep entered through the ruined gate, and then laid some planks \\nacross it to prevent the flock from wandering away during the night. \\nThere were no wolves in the region, but once an animal had strayed \\nduring the night, and the boy had had to spend the entire next day \\nsearching for it. \\nHe swept the floor with his jacket and lay down, using the book \\nhe had just finished reading as a pillow. He told himself that he \\nwould have to start reading thicker books: they lasted longer, and \\nmade more comfortable pillows. \\nIt was still dark when he awoke, and, looking up, he could see \\nthe stars through the half-destroyed roof. \\nI wanted to sleep a little longer, he thought. He had had the same')]"
      ]
     },
     "execution_count": 10,
     "metadata": {},
     "output_type": "execute_result"
    }
   ],
   "source": [
    "retriever = qdrant.as_retriever()\n",
    "retriever.invoke(\"Who is Santiago?\")"
   ]
  }
 ],
 "metadata": {
  "kernelspec": {
   "display_name": "local-llm",
   "language": "python",
   "name": "python3"
  },
  "language_info": {
   "codemirror_mode": {
    "name": "ipython",
    "version": 3
   },
   "file_extension": ".py",
   "mimetype": "text/x-python",
   "name": "python",
   "nbconvert_exporter": "python",
   "pygments_lexer": "ipython3",
   "version": "3.11.10"
  }
 },
 "nbformat": 4,
 "nbformat_minor": 2
}
